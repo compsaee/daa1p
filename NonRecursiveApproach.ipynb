{
 "cells": [
  {
   "cell_type": "code",
   "execution_count": 2,
   "id": "33c3aba8",
   "metadata": {},
   "outputs": [
    {
     "name": "stdout",
     "output_type": "stream",
     "text": [
      "Fibonacci(10) = 55\n",
      "Fibonacci Series up to 10: [0, 1, 1, 2, 3, 5, 8, 13, 21, 34, 55]\n"
     ]
    }
   ],
   "source": [
    "def fibonacci_iterative(n):\n",
    "    if n <= 1:\n",
    "        return n\n",
    "\n",
    "    fib_series = [0, 1]\n",
    "    for i in range(2, n + 1):\n",
    "        next_fib = fib_series[-1] + fib_series[-2]\n",
    "        fib_series.append(next_fib)\n",
    "\n",
    "    return fib_series[-1], fib_series\n",
    "\n",
    "n = 10  # Change this to the desired Fibonacci number to calculate and print the series.\n",
    "result, series = fibonacci_iterative(n)\n",
    "print(f\"Fibonacci({n}) = {result}\")\n",
    "print(f\"Fibonacci Series up to {n}: {series}\")\n"
   ]
  },
  {
   "cell_type": "code",
   "execution_count": null,
   "id": "85d2bee7",
   "metadata": {},
   "outputs": [],
   "source": []
  }
 ],
 "metadata": {
  "kernelspec": {
   "display_name": "Python 3 (ipykernel)",
   "language": "python",
   "name": "python3"
  },
  "language_info": {
   "codemirror_mode": {
    "name": "ipython",
    "version": 3
   },
   "file_extension": ".py",
   "mimetype": "text/x-python",
   "name": "python",
   "nbconvert_exporter": "python",
   "pygments_lexer": "ipython3",
   "version": "3.11.5"
  }
 },
 "nbformat": 4,
 "nbformat_minor": 5
}
