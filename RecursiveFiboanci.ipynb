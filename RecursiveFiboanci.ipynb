{
 "cells": [
  {
   "cell_type": "code",
   "execution_count": 4,
   "id": "0cee0153",
   "metadata": {},
   "outputs": [
    {
     "name": "stdout",
     "output_type": "stream",
     "text": [
      "Fibonacci(10) = 55\n",
      "Fibonacci Series up to 10: [0, 1, 1, 2, 3, 5, 8, 13, 21, 34, 55]\n"
     ]
    }
   ],
   "source": [
    "def fibonacci_recursive(n):\n",
    "    if n <= 1:\n",
    "        return n\n",
    "    return fibonacci_recursive(n - 1) + fibonacci_recursive(n - 2)\n",
    "\n",
    "def print_fibonacci_series(n):\n",
    "    series = []\n",
    "    for i in range(n + 1):\n",
    "        series.append(fibonacci_recursive(i))\n",
    "    return series\n",
    "\n",
    "n = 10  # Change this to the desired Fibonacci number to calculate and print the series.\n",
    "result = fibonacci_recursive(n)\n",
    "series = print_fibonacci_series(n)\n",
    "print(f\"Fibonacci({n}) = {result}\")\n",
    "print(f\"Fibonacci Series up to {n}: {series}\")\n"
   ]
  },
  {
   "cell_type": "code",
   "execution_count": null,
   "id": "83292ea8",
   "metadata": {},
   "outputs": [],
   "source": []
  }
 ],
 "metadata": {
  "kernelspec": {
   "display_name": "Python 3 (ipykernel)",
   "language": "python",
   "name": "python3"
  },
  "language_info": {
   "codemirror_mode": {
    "name": "ipython",
    "version": 3
   },
   "file_extension": ".py",
   "mimetype": "text/x-python",
   "name": "python",
   "nbconvert_exporter": "python",
   "pygments_lexer": "ipython3",
   "version": "3.11.5"
  }
 },
 "nbformat": 4,
 "nbformat_minor": 5
}
